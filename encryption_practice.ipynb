{
 "cells": [
  {
   "cell_type": "markdown",
   "metadata": {},
   "source": [
    "# Caesar Encryption"
   ]
  },
  {
   "cell_type": "code",
   "execution_count": 1,
   "metadata": {},
   "outputs": [
    {
     "name": "stdout",
     "output_type": "stream",
     "text": [
      "原始明文: Hello!\n",
      "加密密文: Rovvy!\n",
      "解密結果: Hello!\n"
     ]
    }
   ],
   "source": [
    "def txt_shift(txt, shift):\n",
    "    result = \"\"\n",
    "    for idx in range(0, len(txt)):\n",
    "        char = txt[idx]\n",
    "        if char.isalpha():\n",
    "            if char.isupper():\n",
    "                order = ord(char) -65 + shift\n",
    "                order %= 26\n",
    "                order += 65\n",
    "            elif char.islower():\n",
    "                order = ord(char) -97 + shift\n",
    "                order %= 26\n",
    "                order += 97\n",
    "            char = chr(order)\n",
    "        result += char\n",
    "    return result\n",
    "\n",
    "def caesar_encryption(txt, shift):\n",
    "    return txt_shift(txt, shift)\n",
    "\n",
    "def caesar_decryption(txt, shift):\n",
    "    return txt_shift(txt, -1 * shift)\n",
    "\n",
    "plain_txt = \"Hello!\"\n",
    "shift_amount = 10\n",
    "\n",
    "print(f\"原始明文: {plain_txt}\")\n",
    "cipher_txt = caesar_encryption(plain_txt, shift_amount)\n",
    "print(f\"加密密文: {cipher_txt}\")\n",
    "decryption_cipher_txt = caesar_decryption(cipher_txt, shift_amount)\n",
    "print(f\"解密結果: {decryption_cipher_txt}\")"
   ]
  },
  {
   "cell_type": "markdown",
   "metadata": {},
   "source": [
    "# Monoalphabetic Encryption"
   ]
  },
  {
   "cell_type": "code",
   "execution_count": 2,
   "metadata": {},
   "outputs": [
    {
     "name": "stdout",
     "output_type": "stream",
     "text": [
      "原始明文: Hello!\n",
      "Monoalphabet: [4, 16, 2, 24, 1, 19, 8, 0, 13, 14, 12, 23, 5, 10, 18, 20, 3, 9, 22, 25, 15, 17, 21, 6, 7, 11]\n",
      "加密密文: Abxxs!\n",
      "解密結果: Hello!\n"
     ]
    }
   ],
   "source": [
    "from random import sample\n",
    "\n",
    "def txt_shift(txt, shift):\n",
    "    result = \"\"\n",
    "    for idx in range(0, len(txt)):\n",
    "        char = txt[idx]\n",
    "        if char.isalpha():\n",
    "            order = ord(char)\n",
    "            if char.isupper():\n",
    "                order -= 65\n",
    "                order = shift[order]\n",
    "                order += 65\n",
    "            elif char.islower():\n",
    "                order -= 97\n",
    "                order = shift[order]\n",
    "                order += 97\n",
    "            char = chr(order)\n",
    "        result += char\n",
    "    return result\n",
    "\n",
    "def mono_encryption(txt, shift):\n",
    "    return txt_shift(txt, shift)\n",
    "\n",
    "def mono_decryption(txt, shift):\n",
    "    inverse_shift = [0] * 26\n",
    "    for idx, value in enumerate(shift):\n",
    "        inverse_shift[value] = idx\n",
    "    return txt_shift(txt, inverse_shift)\n",
    "\n",
    "plain_txt = \"Hello!\"\n",
    "shift_list = sample(range(0,26), 26)\n",
    "\n",
    "print(f\"原始明文: {plain_txt}\")\n",
    "print(f\"Monoalphabet: {shift_list}\")\n",
    "cipher_txt = mono_encryption(plain_txt, shift_list)\n",
    "print(f\"加密密文: {cipher_txt}\")\n",
    "decryption_cipher_txt = mono_decryption(cipher_txt, shift_list)\n",
    "print(f\"解密結果: {decryption_cipher_txt}\")"
   ]
  },
  {
   "cell_type": "markdown",
   "metadata": {},
   "source": [
    "# XOR Encryption"
   ]
  },
  {
   "cell_type": "code",
   "execution_count": 1,
   "metadata": {},
   "outputs": [],
   "source": [
    "def string_to_bytes(input):\n",
    "    input = bytearray(input, 'utf-8')\n",
    "    result = \"\"\n",
    "    for byte in input:\n",
    "        for i in range(7, -1, -1):\n",
    "            ## (byte >> i), byte 右移 i bits, ex: '10000' 右移 2 bits 變成 '100'\n",
    "            ## '&', 二進制 and 運算, ex: 6 & 7, '111' & '110', 運算得到 '110', 也就是 6\n",
    "            ## 補充: '|', 二進制 or 運算\n",
    "            result += str((byte >> i) & 1)\n",
    "    return result\n",
    "\n",
    "def bytes_to_string(input):\n",
    "    result = \"\"\n",
    "    for idx in range(0, int(len(input)/8)):\n",
    "        binary = input[8*idx:8*(idx+1)]\n",
    "        result += chr(int(binary, 2))\n",
    "    return result"
   ]
  },
  {
   "cell_type": "code",
   "execution_count": 37,
   "metadata": {},
   "outputs": [],
   "source": [
    "import random\n",
    "\n",
    "def generate_key(length):\n",
    "    key = \"\"\n",
    "    for i in range(0, length):\n",
    "        key += str(random.randint(0, 1))\n",
    "    return key\n",
    "\n",
    "def xor_operation(text, key):\n",
    "    if text == key:\n",
    "        return \"0\"\n",
    "    else:\n",
    "        return \"1\"\n",
    "\n",
    "def xor_en_decrypt(text, key):\n",
    "    result = \"\"\n",
    "    len_txt = len(text)\n",
    "    len_key = len(key)\n",
    "    for idx in range(0, len_txt):\n",
    "        if idx >= len_key:\n",
    "            key_idx = idx % len_key\n",
    "        else:\n",
    "            key_idx = idx\n",
    "        xor_result = xor_operation(text[idx], key[key_idx])\n",
    "        result += xor_result\n",
    "    return result"
   ]
  },
  {
   "cell_type": "code",
   "execution_count": 38,
   "metadata": {},
   "outputs": [
    {
     "name": "stdout",
     "output_type": "stream",
     "text": [
      "Origin message: XOR Cipher!\n",
      "Message in binary: 0101100001001111010100100010000001000011011010010111000001101000011001010111001000100001\n",
      "Key: 0100011101011001101010111011001001100101001011111011101000001100001111100000011000101001\n",
      "Encryption: 0001111100010110111110011001001000100110010001101100101001100100010110110111010000001000\n",
      "Decryption: 0101100001001111010100100010000001000011011010010111000001101000011001010111001000100001\n",
      "Text: XOR Cipher!\n"
     ]
    }
   ],
   "source": [
    "if __name__ == \"__main__\":\n",
    "    message = \"XOR Cipher!\"\n",
    "    print(f\"Origin message: {message}\")\n",
    "    message = string_to_bytes(message)\n",
    "    print(f\"Message in binary: {message}\")\n",
    "\n",
    "    key = generate_key(len(message))\n",
    "    print(f\"Key: {key}\")\n",
    "\n",
    "    encryption = xor_en_decrypt(message, key)\n",
    "    print(f\"Encryption: {encryption}\")\n",
    "\n",
    "    decryption = xor_en_decrypt(encryption, key)\n",
    "    print(f\"Decryption: {decryption}\")\n",
    "\n",
    "    text = bytes_to_string(decryption)\n",
    "    print(f\"Text: {text}\")"
   ]
  },
  {
   "cell_type": "markdown",
   "metadata": {},
   "source": [
    "# Substitution-Permutation Network(SPN)"
   ]
  },
  {
   "cell_type": "code",
   "execution_count": 1,
   "metadata": {},
   "outputs": [],
   "source": [
    "def generate_key(key, rounds):\n",
    "    key += key\n",
    "    keys = []\n",
    "    for idx in range(rounds):\n",
    "        key_this_round = key[4*idx+4:4*idx+20]\n",
    "        keys.append(key_this_round)\n",
    "    return keys\n",
    "\n",
    "def xor_operation(text, key):\n",
    "    if text == key:\n",
    "        return \"0\"\n",
    "    else:\n",
    "        return \"1\"\n",
    "\n",
    "def xor_en_decrypt(text, key):\n",
    "    result = \"\"\n",
    "    len_txt = len(text)\n",
    "    len_key = len(key)\n",
    "    for idx in range(0, len_txt):\n",
    "        if idx >= len_key:\n",
    "            key_idx = idx % len_key\n",
    "        else:\n",
    "            key_idx = idx\n",
    "        xor_result = xor_operation(text[idx], key[key_idx])\n",
    "        result += xor_result\n",
    "    return result"
   ]
  },
  {
   "cell_type": "code",
   "execution_count": 2,
   "metadata": {},
   "outputs": [],
   "source": [
    "def substitution(input, s_box):\n",
    "    output = \"\"\n",
    "    for idx in range(4):\n",
    "        data = input[4*idx:4*(idx+1)]\n",
    "        number = int(data, 2)\n",
    "        number_substitution = s_box[number]\n",
    "        # Convert to binary string\n",
    "        # ex: 9 -> \"1001\"\n",
    "        binary_number = \"\"\n",
    "        for i in range(3, -1, -1):\n",
    "            binary_number += str((number_substitution >> i) & 1)\n",
    "\n",
    "        output += binary_number\n",
    "    return output"
   ]
  },
  {
   "cell_type": "code",
   "execution_count": 3,
   "metadata": {},
   "outputs": [],
   "source": [
    "def permutation(input, p_box):\n",
    "    output = list(\"0\" * 16)\n",
    "    for idx, value in enumerate(p_box):\n",
    "        output[value] = input[idx]\n",
    "    return \"\".join(output)"
   ]
  },
  {
   "cell_type": "code",
   "execution_count": 4,
   "metadata": {},
   "outputs": [],
   "source": [
    "def spn_encrypt(text, rounds, key, s_box, p_box):\n",
    "    output = text\n",
    "    for idx in range(rounds):\n",
    "        output = xor_en_decrypt(output, key[idx])\n",
    "        output = substitution(output, s_box)\n",
    "        output = permutation(output, p_box)\n",
    "    output = xor_en_decrypt(output, key[rounds])\n",
    "    return output"
   ]
  },
  {
   "cell_type": "code",
   "execution_count": 5,
   "metadata": {},
   "outputs": [],
   "source": [
    "def spn_decrypt(text, rounds, key, s_box, p_box):\n",
    "    output = text\n",
    "    s_box_inverse = [0]*16\n",
    "    p_box_inverse = [0]*16\n",
    "    for idx in range(16):\n",
    "        s_box_inverse[s_box[idx]] = idx\n",
    "        p_box_inverse[p_box[idx]] = idx\n",
    "    for idx in range(rounds):\n",
    "        output = xor_en_decrypt(output, key[rounds-idx])\n",
    "        output = permutation(output, p_box_inverse)\n",
    "        output = substitution(output, s_box_inverse)\n",
    "    output = xor_en_decrypt(output, key[0])\n",
    "    return output"
   ]
  },
  {
   "cell_type": "code",
   "execution_count": 10,
   "metadata": {},
   "outputs": [
    {
     "name": "stdout",
     "output_type": "stream",
     "text": [
      "初始金鑰： 1011101000111110\n",
      "產生金鑰： ['1010001111101011', '0011111010111010', '1110101110100011', '1011101000111110']\n",
      "s_box： [13, 1, 11, 9, 0, 4, 3, 7, 14, 2, 10, 6, 5, 12, 8, 15]\n",
      "p_box： [9, 13, 4, 8, 0, 2, 11, 12, 3, 7, 1, 10, 15, 5, 14, 6]\n",
      "原始明文： 1001001110100101\n",
      "加密密文： 0100000111110101\n",
      "原始明文： 1001001110100101\n"
     ]
    }
   ],
   "source": [
    "import random\n",
    "\n",
    "if __name__ == '__main__':\n",
    "    rounds = 3\n",
    "    key = \"1011101000111110\"\n",
    "    keys = generate_key(key, rounds + 1)\n",
    "    print(f\"初始金鑰： {key}\")\n",
    "    print(f\"產生金鑰： {keys}\")\n",
    "\n",
    "    s_box = random.sample(range(0, 16), 16)\n",
    "    print(f\"s_box： {s_box}\")\n",
    "    p_box = random.sample(range(0, 16), 16)\n",
    "    print(f\"p_box： {p_box}\")\n",
    "\n",
    "    message = \"1001001110100101\"\n",
    "    print(f\"原始明文： {message}\")\n",
    "    encryption = spn_encrypt(message, rounds, keys, s_box, p_box)\n",
    "    print(f\"加密密文： {encryption}\")\n",
    "    decryption = spn_decrypt(encryption, rounds, keys, s_box, p_box)\n",
    "    print(f\"原始明文： {decryption}\")"
   ]
  },
  {
   "cell_type": "code",
   "execution_count": null,
   "metadata": {},
   "outputs": [],
   "source": []
  }
 ],
 "metadata": {
  "kernelspec": {
   "display_name": "Python 3",
   "language": "python",
   "name": "python3"
  },
  "language_info": {
   "codemirror_mode": {
    "name": "ipython",
    "version": 3
   },
   "file_extension": ".py",
   "mimetype": "text/x-python",
   "name": "python",
   "nbconvert_exporter": "python",
   "pygments_lexer": "ipython3",
   "version": "3.7.6"
  }
 },
 "nbformat": 4,
 "nbformat_minor": 4
}
