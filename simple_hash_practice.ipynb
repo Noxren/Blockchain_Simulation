{
 "cells": [
  {
   "cell_type": "code",
   "execution_count": 1,
   "metadata": {},
   "outputs": [],
   "source": [
    "def hash(input):\n",
    "    hash_number = 512\n",
    "    for char in input:\n",
    "        hash_number *= ord(char)\n",
    "        hash_number += 3\n",
    "        hash_number %= 1024\n",
    "    hash_number *= len(input)\n",
    "    hash_number %= 1024\n",
    "    return hash_number"
   ]
  },
  {
   "cell_type": "code",
   "execution_count": 8,
   "metadata": {},
   "outputs": [
    {
     "name": "stdout",
     "output_type": "stream",
     "text": [
      "280\n",
      "610\n",
      "43\n"
     ]
    }
   ],
   "source": [
    "if __name__ == \"__main__\":\n",
    "    print(hash(\"Hello World!\"))\n",
    "    print(hash(\"Bill Gates\"))\n",
    "    print(hash(\"100000000\"))"
   ]
  },
  {
   "cell_type": "code",
   "execution_count": null,
   "metadata": {},
   "outputs": [],
   "source": []
  }
 ],
 "metadata": {
  "kernelspec": {
   "display_name": "Python 3",
   "language": "python",
   "name": "python3"
  },
  "language_info": {
   "codemirror_mode": {
    "name": "ipython",
    "version": 3
   },
   "file_extension": ".py",
   "mimetype": "text/x-python",
   "name": "python",
   "nbconvert_exporter": "python",
   "pygments_lexer": "ipython3",
   "version": "3.7.6"
  }
 },
 "nbformat": 4,
 "nbformat_minor": 4
}
